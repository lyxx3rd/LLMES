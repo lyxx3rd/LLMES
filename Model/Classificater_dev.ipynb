{
 "cells": [
  {
   "cell_type": "code",
   "execution_count": 1,
   "metadata": {},
   "outputs": [
    {
     "name": "stderr",
     "output_type": "stream",
     "text": [
      "/tmp/ipykernel_1743/3133227419.py:4: FutureWarning: You are using `torch.load` with `weights_only=False` (the current default value), which uses the default pickle module implicitly. It is possible to construct malicious pickle data which will execute arbitrary code during unpickling (See https://github.com/pytorch/pytorch/blob/main/SECURITY.md#untrusted-models for more details). In a future release, the default value for `weights_only` will be flipped to `True`. This limits the functions that could be executed during unpickling. Arbitrary objects will no longer be allowed to be loaded via this mode unless they are explicitly allowlisted by the user via `torch.serialization.add_safe_globals`. We recommend you start setting `weights_only=True` for any use case where you don't have full control of the loaded file. Please open an issue on GitHub for any issues related to this experimental feature.\n",
      "  classify_model = torch.load(\"./Model_saved/classify_model.pt\")\n",
      "/root/miniconda3/lib/python3.10/site-packages/transformers/tokenization_utils_base.py:1601: FutureWarning: `clean_up_tokenization_spaces` was not set. It will be set to `True` by default. This behavior will be depracted in transformers v4.45, and will be then set to `False` by default. For more details check this issue: https://github.com/huggingface/transformers/issues/31884\n",
      "  warnings.warn(\n"
     ]
    }
   ],
   "source": [
    "import torch\n",
    "from transformers import AutoTokenizer\n",
    "model_path = \"./dienstag/chinese-roberta-wwm-ext\"\n",
    "classify_model = torch.load(\"./Model_saved/classify_model.pt\")\n",
    "DEVICE = \"cuda\" if torch.cuda.is_available() else \"cpu\"\n",
    "classify_model.to(DEVICE)\n",
    "tokenizer = AutoTokenizer.from_pretrained(model_path)\n",
    "\n",
    "def predict_single_sentence(sentence: str):\n",
    "    # Tokenize the sentence with the same settings as during training\n",
    "    inputs = tokenizer(sentence, return_tensors=\"pt\", max_length=256, padding=True, truncation=True)\n",
    "    # Move the input tensors to the correct device\n",
    "    inputs = {k: v.to(DEVICE) for k, v in inputs.items()}\n",
    "    \n",
    "    # Set the model to evaluation mode (important if your model has layers like dropout or batchnorm)\n",
    "    classify_model.eval()\n",
    "\n",
    "    # Perform inference\n",
    "    with torch.no_grad():\n",
    "        outputs = classify_model(**inputs)\n",
    "    #print(outputs)\n",
    "    \n",
    "    # Get the predicted class. This assumes that you're using a classification model\n",
    "    # and that the model returns logits.\n",
    "    # You might need to modify this depending on what your model's forward pass returns\n",
    "    _, predicted = torch.max(outputs.logits, 1)\n",
    "    \n",
    "    return predicted.item()  # Convert the tensor to a Python scalar"
   ]
  },
  {
   "cell_type": "code",
   "execution_count": 2,
   "metadata": {},
   "outputs": [],
   "source": [
    "import pandas as pd\n",
    "df = pd.read_csv(\"../classificate_data/classificate_data.csv\",encoding = 'utf-8')"
   ]
  },
  {
   "cell_type": "code",
   "execution_count": 3,
   "metadata": {},
   "outputs": [
    {
     "name": "stdout",
     "output_type": "stream",
     "text": [
      "1.0\n"
     ]
    }
   ],
   "source": [
    "n=0\n",
    "id_list = []\n",
    "for i in range(len(df['content'])):\n",
    "    label = df['label'][i]\n",
    "    id = predict_single_sentence(df['content'][i])\n",
    "    id_list.append(id)\n",
    "    if label == id:\n",
    "        n = n+1\n",
    "print(n/len(df['content']))"
   ]
  },
  {
   "cell_type": "code",
   "execution_count": 5,
   "metadata": {},
   "outputs": [
    {
     "name": "stdout",
     "output_type": "stream",
     "text": [
      "1\n"
     ]
    }
   ],
   "source": [
    "content = \"\"\"\n",
    "<结论>:符合\n",
    "<符合性分析>:文件中明确规定了质量手册的编制及审批流程，包括编制部门、审核人、批准人以及发布的时机等细节。此外，还规定了质量手册的发放与保管方式，这些内容都体现了组织应编制质量手册的要求。\n",
    "<原文>:1、质量手册的编制及审批\n",
    "1.1 本手册由质量法规部组织人员编制，各部门确认后，经管理者代表审核、总经理批准后发布，并从批准之日起开始实施。\n",
    "2、质量手册的发放与保管\n",
    "2.1 本手册如需要发放，由管理者代表决定发放清单，质量法规部负责发放并作好发放记录。\n",
    "\"\"\"\n",
    "id = predict_single_sentence(content)\n",
    "print(id)"
   ]
  }
 ],
 "metadata": {
  "kernelspec": {
   "display_name": "Python 3 (ipykernel)",
   "language": "python",
   "name": "python3"
  },
  "language_info": {
   "codemirror_mode": {
    "name": "ipython",
    "version": 3
   },
   "file_extension": ".py",
   "mimetype": "text/x-python",
   "name": "python",
   "nbconvert_exporter": "python",
   "pygments_lexer": "ipython3",
   "version": "3.10.8"
  }
 },
 "nbformat": 4,
 "nbformat_minor": 4
}
